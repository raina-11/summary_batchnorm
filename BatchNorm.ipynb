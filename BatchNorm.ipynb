{
  "nbformat": 4,
  "nbformat_minor": 0,
  "metadata": {
    "colab": {
      "name": "BatchNorm.ipynb",
      "provenance": [],
      "authorship_tag": "ABX9TyOgOuc3w4WtRB2CtbNRXoU9",
      "include_colab_link": true
    },
    "kernelspec": {
      "name": "python3",
      "display_name": "Python 3"
    }
  },
  "cells": [
    {
      "cell_type": "markdown",
      "metadata": {
        "id": "view-in-github",
        "colab_type": "text"
      },
      "source": [
        "<a href=\"https://colab.research.google.com/github/raina-11/summary_batchnorm/blob/master/BatchNorm.ipynb\" target=\"_parent\"><img src=\"https://colab.research.google.com/assets/colab-badge.svg\" alt=\"Open In Colab\"/></a>"
      ]
    },
    {
      "cell_type": "code",
      "metadata": {
        "id": "mxkOBIOBr7ZE",
        "colab_type": "code",
        "colab": {}
      },
      "source": [
        "import torch\n",
        "import torch.nn as nn\n",
        "import torch.nn.functional as F\n",
        "import torch.optim as optim\n",
        "import torchvision \n",
        "import torchvision.transforms as transforms\n",
        "import torchvision.datasets as datasets\n",
        "from torch.distributions import uniform"
      ],
      "execution_count": 1,
      "outputs": []
    },
    {
      "cell_type": "code",
      "metadata": {
        "id": "buvmYFoe9F55",
        "colab_type": "code",
        "colab": {}
      },
      "source": [
        "input_shape = 784\n",
        "hidden_size = 100\n",
        "num_epochs = 8\n",
        "batchsize = 100\n",
        "learning_rate = 0.002"
      ],
      "execution_count": 2,
      "outputs": []
    },
    {
      "cell_type": "code",
      "metadata": {
        "id": "r_wmotxjtsee",
        "colab_type": "code",
        "colab": {}
      },
      "source": [
        "#trainset\n",
        "traindataset=datasets.MNIST(root='./data',\n",
        "                            train=True,\n",
        "                            transform=transforms.ToTensor(),\n",
        "                            download=True)\n",
        "trainloader=torch.utils.data.DataLoader(dataset=traindataset,\n",
        "                                        batch_size=batchsize,\n",
        "                                        shuffle=True)\n",
        "#testset\n",
        "testdataset=datasets.MNIST(root='./data',\n",
        "                           train=False,\n",
        "                           transform=transforms.ToTensor(),\n",
        "                           download=False)\n",
        "testloader=torch.utils.data.DataLoader(testdataset,\n",
        "                                       batch_size=batchsize,\n",
        "                                        shuffle=False)\n"
      ],
      "execution_count": 3,
      "outputs": []
    },
    {
      "cell_type": "code",
      "metadata": {
        "id": "MngAL25ZV8am",
        "colab_type": "code",
        "colab": {
          "base_uri": "https://localhost:8080/",
          "height": 88
        },
        "outputId": "52987f6c-97ed-42b5-c783-2fd9c8fe1a8b"
      },
      "source": [
        "print('length of trainset :', len(traindataset))\n",
        "print('length of testset :', len(testdataset))\n",
        "print('no. of batches in trainset :', len(trainloader))\n",
        "print('no.of batches in testset :', len(testloader))"
      ],
      "execution_count": 4,
      "outputs": [
        {
          "output_type": "stream",
          "text": [
            "length of trainset : 60000\n",
            "length of testset : 10000\n",
            "no. of batches in trainset : 600\n",
            "no.of batches in testset : 100\n"
          ],
          "name": "stdout"
        }
      ]
    },
    {
      "cell_type": "code",
      "metadata": {
        "id": "Kkxdm9MAr24O",
        "colab_type": "code",
        "colab": {
          "base_uri": "https://localhost:8080/",
          "height": 70
        },
        "outputId": "bed50b24-fcc0-486a-ed39-aa6eb66e489b"
      },
      "source": [
        "dataiter = iter(trainloader)\n",
        "images, labels = dataiter.next()\n",
        "\n",
        "print(images.shape)\n",
        "\n",
        "print(images[0].shape)\n",
        "print(labels[0].item())"
      ],
      "execution_count": 5,
      "outputs": [
        {
          "output_type": "stream",
          "text": [
            "torch.Size([100, 1, 28, 28])\n",
            "torch.Size([1, 28, 28])\n",
            "6\n"
          ],
          "name": "stdout"
        }
      ]
    },
    {
      "cell_type": "code",
      "metadata": {
        "id": "yjXGnJCKq6NZ",
        "colab_type": "code",
        "colab": {}
      },
      "source": [
        "class BatchNorm(nn.Module):\n",
        "\n",
        "    def __init__(self, input_shape, momentum=0.9, epsilon = 1e-5):\n",
        "        super(BatchNorm, self).__init__()\n",
        "        \n",
        "        self.momentum = momentum\n",
        "        self.input_shape = input_shape\n",
        "        self.epsilon = epsilon\n",
        "        \n",
        "        self.gamma = nn.Parameter(torch.FloatTensor(self.input_shape).uniform_())\n",
        "        self.beta = nn.Parameter(torch.zeros(self.input_shape))\n",
        "            \n",
        "        self.register_buffer('running_mean', torch.zeros(self.input_shape))\n",
        "        self.register_buffer('running_var', torch.ones(self.input_shape))\n",
        "        \n",
        "        self.running_mean.zero_()\n",
        "        self.running_var.fill_(1)\n",
        "\n",
        "    def forward(self, input):\n",
        "        \n",
        "        X = input\n",
        "\n",
        "        if len(X.shape) not in (2, 4):\n",
        "            raise ValueError(\"only support dense or 2dconv\")\n",
        "        \n",
        "        # dense layer\n",
        "        elif len(X.shape) == 2:\n",
        "            if self.training:\n",
        "                mean = torch.mean(X, axis=0)\n",
        "                variance = torch.mean((X-mean)**2, axis=0)\n",
        "                \n",
        "                self.running_mean = (self.momentum * self.running_mean) + (1.0-self.momentum) * mean\n",
        "                self.running_var = (self.momentum * self.running_var) + (1.0-self.momentum) * (input.shape[0]/(input.shape[0]-1)*variance)\n",
        "            \n",
        "            else:\n",
        "                mean = self.running_mean\n",
        "                variance = self.running_var\n",
        "                \n",
        "            X_hat = (X-mean) * 1.0 /torch.sqrt(variance + self.epsilon)\n",
        "            out = self.gamma * X_hat + self.beta\n",
        "  \n",
        "\t\t\t\t# convolutional layer\n",
        "        elif len(X.shape) == 4:\n",
        "            if self.training:\n",
        "                N, C, H, W = X.shape\n",
        "                mean = torch.mean(X, axis = (0, 2, 3))\n",
        "                variance = torch.mean((X - mean.reshape((1, C, 1, 1))) ** 2, axis=(0, 2, 3))\n",
        "                \n",
        "                self.running_mean = (self.momentum * self.running_mean) + (1.0-self.momentum) * mean\n",
        "                self.running_var = (self.momentum * self.running_var) + (1.0-self.momentum) * (input.shape[0]/(input.shape[0]-1)*variance)\n",
        "            else:\n",
        "                mean = self.running_mean\n",
        "                var = self.running_var\n",
        "                \n",
        "            X_hat = (X - mean.reshape((1, C, 1, 1))) * 1.0 / torch.sqrt(variance.reshape((1, C, 1, 1)) + self.epsilon)\n",
        "            out = self.gamma.reshape((1, C, 1, 1)) * X_hat + self.beta.reshape((1, C, 1, 1))\n",
        "        \n",
        "        return out"
      ],
      "execution_count": 6,
      "outputs": []
    },
    {
      "cell_type": "code",
      "metadata": {
        "id": "1fi2tGvd4lCn",
        "colab_type": "code",
        "colab": {}
      },
      "source": [
        "class SimpleNet_BN(nn.Module):\n",
        "   def __init__(self, input_shape, hidden_size):\n",
        "        super(SimpleNet_BN, self).__init__()\n",
        "        self.fc1 = nn.Linear(input_shape, hidden_size)\n",
        "        self.bn1 = BatchNorm(hidden_size)\n",
        "        self.relu = nn.ReLU()\n",
        "        self.fc2 = nn.Linear(hidden_size, hidden_size)\n",
        "        self.bn2  = BatchNorm(hidden_size)\n",
        "        self.fc3 =  nn.Linear(hidden_size,10)\n",
        "\n",
        "    \n",
        "   def forward(self, x):\n",
        "\n",
        "     out = self.fc1(x)\n",
        "     out = self.bn1(out)\n",
        "     out = self.relu(out)\n",
        "     out = self.fc2(out)\n",
        "     out = self.bn2(out)\n",
        "     out = self.relu(out)\n",
        "     out = self.fc3(out)\n",
        "     return out\n",
        "\n",
        "        "
      ],
      "execution_count": 8,
      "outputs": []
    },
    {
      "cell_type": "code",
      "metadata": {
        "id": "jD98p7w38hbB",
        "colab_type": "code",
        "colab": {}
      },
      "source": [
        "device = torch.device('cuda' if torch.cuda.is_available() else 'cpu')"
      ],
      "execution_count": 9,
      "outputs": []
    },
    {
      "cell_type": "code",
      "metadata": {
        "id": "sxc5qOuJ53tu",
        "colab_type": "code",
        "colab": {
          "base_uri": "https://localhost:8080/",
          "height": 159
        },
        "outputId": "6cb3c85e-d367-4749-a5fb-60eb4fd59c6f"
      },
      "source": [
        "model = SimpleNet_BN(input_shape, hidden_size).to(device)\n",
        "\n",
        "# Loss and optimizer\n",
        "criterion = nn.CrossEntropyLoss()\n",
        "optimizer = torch.optim.Adam(model.parameters(), lr=learning_rate)\n",
        "print(model)"
      ],
      "execution_count": 10,
      "outputs": [
        {
          "output_type": "stream",
          "text": [
            "SimpleNet_BN(\n",
            "  (fc1): Linear(in_features=784, out_features=100, bias=True)\n",
            "  (bn1): BatchNorm()\n",
            "  (relu): ReLU()\n",
            "  (fc2): Linear(in_features=100, out_features=100, bias=True)\n",
            "  (bn2): BatchNorm()\n",
            "  (fc3): Linear(in_features=100, out_features=10, bias=True)\n",
            ")\n"
          ],
          "name": "stdout"
        }
      ]
    },
    {
      "cell_type": "code",
      "metadata": {
        "id": "U9sRxW5pS9nY",
        "colab_type": "code",
        "colab": {
          "base_uri": "https://localhost:8080/",
          "height": 595
        },
        "outputId": "e7fff716-fbcd-49e8-8b27-56106f644db4"
      },
      "source": [
        "## functions to show an image\n",
        "import numpy as np\n",
        "import matplotlib.pyplot as plt \n",
        "%matplotlib inline\n",
        "plt.figure(figsize=(10,10))\n",
        "def imshow(img):\n",
        "    #img = img / 2 + 0.5     # unnormalize\n",
        "    npimg = img.numpy()\n",
        "    plt.imshow(np.transpose(npimg, (1, 2,0)))\n",
        "\n",
        "## get some random training images\n",
        "dataiter = iter(trainloader)\n",
        "images, labels = dataiter.next()\n",
        "\n",
        "## show images\n",
        "imshow(torchvision.utils.make_grid(images))"
      ],
      "execution_count": 11,
      "outputs": [
        {
          "output_type": "display_data",
          "data": {
            "image/png": "[encoded data removed]",
            "text/plain": [
              "<Figure size 720x720 with 1 Axes>"
            ]
          },
          "metadata": {
            "tags": [],
            "needs_background": "light"
          }
        }
      ]
    },
    {
      "cell_type": "code",
      "metadata": {
        "id": "lscUPg-8S-8I",
        "colab_type": "code",
        "colab": {
          "base_uri": "https://localhost:8080/",
          "height": 52
        },
        "outputId": "0cb19529-0c85-4be8-e7ff-32131efaf51d"
      },
      "source": [
        "for images, labels in trainloader:\n",
        "    print(\"Image batch dimensions:\", images.shape)\n",
        "    print(\"Image label dimensions:\", labels.shape)\n",
        "    break"
      ],
      "execution_count": 12,
      "outputs": [
        {
          "output_type": "stream",
          "text": [
            "Image batch dimensions: torch.Size([100, 1, 28, 28])\n",
            "Image label dimensions: torch.Size([100])\n"
          ],
          "name": "stdout"
        }
      ]
    },
    {
      "cell_type": "code",
      "metadata": {
        "id": "UZD5hPzVVtqT",
        "colab_type": "code",
        "colab": {
          "base_uri": "https://localhost:8080/",
          "height": 1000
        },
        "outputId": "4840e339-294b-48be-be6a-de7e52338c4a"
      },
      "source": [
        "total_step=len(trainloader)\n",
        "acc_list=[]\n",
        "for epoch in range(num_epochs):\n",
        "  for i,(images,labels) in enumerate(trainloader):\n",
        "    images = images.view(-1,28*28).to(device)\n",
        "    labels = labels.to(device)\n",
        "\n",
        "\n",
        "    #forward pass\n",
        "    outputs=model(images)\n",
        "    loss=criterion(outputs,labels)\n",
        "\n",
        "\n",
        "    #backward pass\n",
        "    optimizer.zero_grad()\n",
        "    loss.backward()\n",
        "    optimizer.step()\n",
        "\n",
        "\n",
        "\n",
        "    if (i+1) % 100==0:\n",
        "\n",
        "      print('Epoch [{}/{}], Step[{}/{}], Loss:{:.4f}'.format(epoch+1, num_epochs,i+1,total_step,loss.item()))\n",
        "      # Test the model\n",
        "      \n",
        "      with torch.no_grad():\n",
        "        correct = 0\n",
        "        total = 0\n",
        "        for images, labels in trainloader:\n",
        "\n",
        "          images = images.reshape(-1, 28*28).to(device)\n",
        "          labels = labels.to(device)\n",
        "          outputs = model(images)\n",
        "          _, predicted = torch.max(outputs.data, 1)\n",
        "          total += labels.size(0)\n",
        "          correct += (predicted == labels).sum().item()\n",
        "\n",
        "        print('Train Accuracy : {} %'.format((correct / total) * 100))\n",
        "      \n",
        "      with torch.no_grad():\n",
        "        correct = 0\n",
        "        total = 0\n",
        "        for images, labels in testloader:\n",
        "\n",
        "          images = images.reshape(-1, 28*28).to(device)\n",
        "          labels = labels.to(device)\n",
        "          outputs = model(images)\n",
        "          _, predicted = torch.max(outputs.data, 1)\n",
        "          total += labels.size(0)\n",
        "          correct += (predicted == labels).sum().item()\n",
        "        print('Test Accuracy : {} %'.format((correct / total) * 100))\n",
        "        acc_list.append(correct/total)\n"
      ],
      "execution_count": 13,
      "outputs": [
        {
          "output_type": "stream",
          "text": [
            "Epoch [1/8], Step[100/600], Loss:0.3036\n",
            "Train Accuracy : 92.50333333333333 %\n",
            "Test Accuracy : 92.85 %\n",
            "Epoch [1/8], Step[200/600], Loss:0.1156\n",
            "Train Accuracy : 94.86 %\n",
            "Test Accuracy : 94.82000000000001 %\n",
            "Epoch [1/8], Step[300/600], Loss:0.1943\n",
            "Train Accuracy : 95.62166666666667 %\n",
            "Test Accuracy : 95.54 %\n",
            "Epoch [1/8], Step[400/600], Loss:0.1971\n",
            "Train Accuracy : 96.29333333333334 %\n",
            "Test Accuracy : 95.95 %\n",
            "Epoch [1/8], Step[500/600], Loss:0.0566\n",
            "Train Accuracy : 96.66 %\n",
            "Test Accuracy : 95.77 %\n",
            "Epoch [1/8], Step[600/600], Loss:0.0648\n",
            "Train Accuracy : 97.01166666666666 %\n",
            "Test Accuracy : 96.16 %\n",
            "Epoch [2/8], Step[100/600], Loss:0.0404\n",
            "Train Accuracy : 97.33333333333334 %\n",
            "Test Accuracy : 96.61999999999999 %\n",
            "Epoch [2/8], Step[200/600], Loss:0.0404\n",
            "Train Accuracy : 97.60666666666667 %\n",
            "Test Accuracy : 96.66 %\n",
            "Epoch [2/8], Step[300/600], Loss:0.1265\n",
            "Train Accuracy : 97.56333333333333 %\n",
            "Test Accuracy : 96.34 %\n",
            "Epoch [2/8], Step[400/600], Loss:0.0438\n",
            "Train Accuracy : 97.95166666666667 %\n",
            "Test Accuracy : 96.94 %\n",
            "Epoch [2/8], Step[500/600], Loss:0.1256\n",
            "Train Accuracy : 97.93333333333332 %\n",
            "Test Accuracy : 97.04 %\n",
            "Epoch [2/8], Step[600/600], Loss:0.0775\n",
            "Train Accuracy : 98.115 %\n",
            "Test Accuracy : 97.25 %\n",
            "Epoch [3/8], Step[100/600], Loss:0.1374\n",
            "Train Accuracy : 98.12666666666667 %\n",
            "Test Accuracy : 96.89 %\n",
            "Epoch [3/8], Step[200/600], Loss:0.0309\n",
            "Train Accuracy : 98.355 %\n",
            "Test Accuracy : 97.14 %\n",
            "Epoch [3/8], Step[300/600], Loss:0.0811\n",
            "Train Accuracy : 98.34666666666666 %\n",
            "Test Accuracy : 96.97 %\n",
            "Epoch [3/8], Step[400/600], Loss:0.0654\n",
            "Train Accuracy : 98.27833333333334 %\n",
            "Test Accuracy : 96.89 %\n",
            "Epoch [3/8], Step[500/600], Loss:0.0314\n",
            "Train Accuracy : 98.35333333333334 %\n",
            "Test Accuracy : 96.89999999999999 %\n",
            "Epoch [3/8], Step[600/600], Loss:0.0806\n",
            "Train Accuracy : 98.47833333333334 %\n",
            "Test Accuracy : 97.27 %\n",
            "Epoch [4/8], Step[100/600], Loss:0.0395\n",
            "Train Accuracy : 98.75166666666667 %\n",
            "Test Accuracy : 97.2 %\n",
            "Epoch [4/8], Step[200/600], Loss:0.0338\n",
            "Train Accuracy : 98.705 %\n",
            "Test Accuracy : 97.21 %\n",
            "Epoch [4/8], Step[300/600], Loss:0.0104\n",
            "Train Accuracy : 98.72333333333333 %\n",
            "Test Accuracy : 97.26 %\n",
            "Epoch [4/8], Step[400/600], Loss:0.0102\n",
            "Train Accuracy : 98.78833333333333 %\n",
            "Test Accuracy : 97.26 %\n",
            "Epoch [4/8], Step[500/600], Loss:0.0594\n",
            "Train Accuracy : 98.555 %\n",
            "Test Accuracy : 97.0 %\n",
            "Epoch [4/8], Step[600/600], Loss:0.0905\n",
            "Train Accuracy : 98.725 %\n",
            "Test Accuracy : 97.17 %\n",
            "Epoch [5/8], Step[100/600], Loss:0.0711\n",
            "Train Accuracy : 98.955 %\n",
            "Test Accuracy : 97.31 %\n",
            "Epoch [5/8], Step[200/600], Loss:0.0684\n",
            "Train Accuracy : 99.06333333333333 %\n",
            "Test Accuracy : 97.45 %\n",
            "Epoch [5/8], Step[300/600], Loss:0.0392\n",
            "Train Accuracy : 98.91166666666666 %\n",
            "Test Accuracy : 97.16 %\n",
            "Epoch [5/8], Step[400/600], Loss:0.0175\n",
            "Train Accuracy : 98.96333333333334 %\n",
            "Test Accuracy : 97.18 %\n",
            "Epoch [5/8], Step[500/600], Loss:0.0147\n",
            "Train Accuracy : 98.93166666666666 %\n",
            "Test Accuracy : 97.11999999999999 %\n",
            "Epoch [5/8], Step[600/600], Loss:0.0299\n",
            "Train Accuracy : 98.93833333333333 %\n",
            "Test Accuracy : 97.32 %\n",
            "Epoch [6/8], Step[100/600], Loss:0.0144\n",
            "Train Accuracy : 99.07000000000001 %\n",
            "Test Accuracy : 97.37 %\n",
            "Epoch [6/8], Step[200/600], Loss:0.0067\n",
            "Train Accuracy : 99.13 %\n",
            "Test Accuracy : 97.5 %\n",
            "Epoch [6/8], Step[300/600], Loss:0.0214\n",
            "Train Accuracy : 99.04333333333334 %\n",
            "Test Accuracy : 97.34 %\n",
            "Epoch [6/8], Step[400/600], Loss:0.0447\n",
            "Train Accuracy : 99.11166666666666 %\n",
            "Test Accuracy : 97.31 %\n",
            "Epoch [6/8], Step[500/600], Loss:0.0239\n",
            "Train Accuracy : 99.16333333333334 %\n",
            "Test Accuracy : 97.39 %\n",
            "Epoch [6/8], Step[600/600], Loss:0.0489\n",
            "Train Accuracy : 99.19833333333334 %\n",
            "Test Accuracy : 97.61999999999999 %\n",
            "Epoch [7/8], Step[100/600], Loss:0.0034\n",
            "Train Accuracy : 99.31833333333333 %\n",
            "Test Accuracy : 97.47 %\n",
            "Epoch [7/8], Step[200/600], Loss:0.0467\n",
            "Train Accuracy : 99.22333333333333 %\n",
            "Test Accuracy : 97.42 %\n",
            "Epoch [7/8], Step[300/600], Loss:0.0161\n",
            "Train Accuracy : 99.06 %\n",
            "Test Accuracy : 97.00999999999999 %\n",
            "Epoch [7/8], Step[400/600], Loss:0.0674\n",
            "Train Accuracy : 99.25833333333334 %\n",
            "Test Accuracy : 97.42 %\n",
            "Epoch [7/8], Step[500/600], Loss:0.0118\n",
            "Train Accuracy : 99.34833333333334 %\n",
            "Test Accuracy : 97.61 %\n",
            "Epoch [7/8], Step[600/600], Loss:0.0242\n",
            "Train Accuracy : 99.24333333333333 %\n",
            "Test Accuracy : 97.19 %\n",
            "Epoch [8/8], Step[100/600], Loss:0.0903\n",
            "Train Accuracy : 99.33833333333332 %\n",
            "Test Accuracy : 97.5 %\n",
            "Epoch [8/8], Step[200/600], Loss:0.0811\n",
            "Train Accuracy : 99.39666666666666 %\n",
            "Test Accuracy : 97.39 %\n",
            "Epoch [8/8], Step[300/600], Loss:0.0027\n",
            "Train Accuracy : 99.31166666666667 %\n",
            "Test Accuracy : 97.54 %\n",
            "Epoch [8/8], Step[400/600], Loss:0.0045\n",
            "Train Accuracy : 99.44333333333333 %\n",
            "Test Accuracy : 97.50999999999999 %\n",
            "Epoch [8/8], Step[500/600], Loss:0.0252\n",
            "Train Accuracy : 99.31166666666667 %\n",
            "Test Accuracy : 97.45 %\n",
            "Epoch [8/8], Step[600/600], Loss:0.0369\n",
            "Train Accuracy : 99.39 %\n",
            "Test Accuracy : 97.6 %\n"
          ],
          "name": "stdout"
        }
      ]
    },
    {
      "cell_type": "code",
      "metadata": {
        "id": "NZGatdpupQfP",
        "colab_type": "code",
        "colab": {
          "base_uri": "https://localhost:8080/",
          "height": 35
        },
        "outputId": "684f1a83-8658-40cf-e08c-a854e782c98f"
      },
      "source": [
        "import numpy as np\n",
        "print ('mean test accuracy with batch norm :' ,np.mean(acc_list))"
      ],
      "execution_count": 14,
      "outputs": [
        {
          "output_type": "stream",
          "text": [
            "mean test accuracy with batch norm : 0.9696416666666666\n"
          ],
          "name": "stdout"
        }
      ]
    },
    {
      "cell_type": "code",
      "metadata": {
        "id": "Sv_5amFVq3YJ",
        "colab_type": "code",
        "colab": {}
      },
      "source": [
        "#model without batchnorm\n",
        "class SimpleNet(nn.Module):\n",
        "   def __init__(self, input_shape, hidden_size):\n",
        "        super(SimpleNet, self).__init__()\n",
        "        self.fc1 = nn.Linear(input_shape, hidden_size)\n",
        "        self.relu = nn.ReLU()\n",
        "        self.fc2 = nn.Linear(hidden_size, hidden_size)\n",
        "        self.fc3 =  nn.Linear(hidden_size,10)\n",
        "\n",
        "    \n",
        "   def forward(self, x):\n",
        "\n",
        "     out = self.fc1(x)\n",
        "     out = self.relu(out)\n",
        "     out = self.fc2(out)\n",
        "     out = self.relu(out)\n",
        "     out = self.fc3(out)\n",
        "     return out\n",
        "\n",
        "        "
      ],
      "execution_count": 15,
      "outputs": []
    },
    {
      "cell_type": "code",
      "metadata": {
        "id": "GY8dnChwzxOo",
        "colab_type": "code",
        "colab": {
          "base_uri": "https://localhost:8080/",
          "height": 124
        },
        "outputId": "f8123c30-433c-4286-80e8-c95dfbea068b"
      },
      "source": [
        "model2=SimpleNet(input_shape,hidden_size).to(device)\n",
        "# Loss and optimizer\n",
        "criterion2 = nn.CrossEntropyLoss()\n",
        "optimizer2 = torch.optim.Adam(model2.parameters(), lr=learning_rate)\n",
        "print(model2)"
      ],
      "execution_count": 16,
      "outputs": [
        {
          "output_type": "stream",
          "text": [
            "SimpleNet(\n",
            "  (fc1): Linear(in_features=784, out_features=100, bias=True)\n",
            "  (relu): ReLU()\n",
            "  (fc2): Linear(in_features=100, out_features=100, bias=True)\n",
            "  (fc3): Linear(in_features=100, out_features=10, bias=True)\n",
            ")\n"
          ],
          "name": "stdout"
        }
      ]
    },
    {
      "cell_type": "code",
      "metadata": {
        "id": "dJK6CBu10MHS",
        "colab_type": "code",
        "colab": {
          "base_uri": "https://localhost:8080/",
          "height": 1000
        },
        "outputId": "cd05d515-d1f6-401e-b5df-57120e9b8f9a"
      },
      "source": [
        "total_step=len(trainloader)\n",
        "acc_list=[]\n",
        "for epoch in range(num_epochs):\n",
        "  for i,(images,labels) in enumerate(trainloader):\n",
        "    images = images.view(-1,28*28).to(device)\n",
        "    labels = labels.to(device)\n",
        "\n",
        "\n",
        "    #forward pass\n",
        "    outputs=model2(images)\n",
        "    loss=criterion2(outputs,labels)\n",
        "\n",
        "\n",
        "    #backward pass\n",
        "    optimizer2.zero_grad()\n",
        "    loss.backward()\n",
        "    optimizer2.step()\n",
        "\n",
        "\n",
        "\n",
        "    if (i+1) % 100==0:\n",
        "\n",
        "      print('Epoch [{}/{}], Step[{}/{}], Loss:{:.4f}'.format(epoch+1, num_epochs,i+1,total_step,loss.item()))\n",
        "      # Test the model\n",
        "      \n",
        "      with torch.no_grad():\n",
        "        correct = 0\n",
        "        total = 0\n",
        "        for images, labels in trainloader:\n",
        "\n",
        "          images = images.reshape(-1, 28*28).to(device)\n",
        "          labels = labels.to(device)\n",
        "          outputs = model2(images)\n",
        "          _, predicted = torch.max(outputs.data, 1)\n",
        "          total += labels.size(0)\n",
        "          correct += (predicted == labels).sum().item()\n",
        "\n",
        "        print('Train Accuracy : {} %'.format((correct / total) * 100))\n",
        "      \n",
        "      with torch.no_grad():\n",
        "        correct = 0\n",
        "        total = 0\n",
        "        for images, labels in testloader:\n",
        "\n",
        "          images = images.reshape(-1, 28*28).to(device)\n",
        "          labels = labels.to(device)\n",
        "          outputs = model2(images)\n",
        "          _, predicted = torch.max(outputs.data, 1)\n",
        "          total += labels.size(0)\n",
        "          correct += (predicted == labels).sum().item()\n",
        "        print('Test Accuracy : {} %'.format((correct / total) * 100))\n",
        "        acc_list.append(correct/total)\n",
        "\n"
      ],
      "execution_count": 17,
      "outputs": [
        {
          "output_type": "stream",
          "text": [
            "Epoch [1/8], Step[100/600], Loss:0.3367\n",
            "Train Accuracy : 90.08166666666668 %\n",
            "Test Accuracy : 90.48 %\n",
            "Epoch [1/8], Step[200/600], Loss:0.1645\n",
            "Train Accuracy : 92.55 %\n",
            "Test Accuracy : 92.81 %\n",
            "Epoch [1/8], Step[300/600], Loss:0.3152\n",
            "Train Accuracy : 93.62666666666667 %\n",
            "Test Accuracy : 93.84 %\n",
            "Epoch [1/8], Step[400/600], Loss:0.1634\n",
            "Train Accuracy : 94.80833333333332 %\n",
            "Test Accuracy : 94.65 %\n",
            "Epoch [1/8], Step[500/600], Loss:0.0748\n",
            "Train Accuracy : 95.29666666666667 %\n",
            "Test Accuracy : 95.1 %\n",
            "Epoch [1/8], Step[600/600], Loss:0.1021\n",
            "Train Accuracy : 95.7 %\n",
            "Test Accuracy : 95.34 %\n",
            "Epoch [2/8], Step[100/600], Loss:0.1206\n",
            "Train Accuracy : 95.525 %\n",
            "Test Accuracy : 95.35 %\n",
            "Epoch [2/8], Step[200/600], Loss:0.1482\n",
            "Train Accuracy : 96.57833333333333 %\n",
            "Test Accuracy : 96.13000000000001 %\n",
            "Epoch [2/8], Step[300/600], Loss:0.1674\n",
            "Train Accuracy : 96.81333333333333 %\n",
            "Test Accuracy : 96.24000000000001 %\n",
            "Epoch [2/8], Step[400/600], Loss:0.1182\n",
            "Train Accuracy : 96.72500000000001 %\n",
            "Test Accuracy : 96.13000000000001 %\n",
            "Epoch [2/8], Step[500/600], Loss:0.1218\n",
            "Train Accuracy : 97.11666666666666 %\n",
            "Test Accuracy : 96.46000000000001 %\n",
            "Epoch [2/8], Step[600/600], Loss:0.1340\n",
            "Train Accuracy : 97.30499999999999 %\n",
            "Test Accuracy : 96.58 %\n",
            "Epoch [3/8], Step[100/600], Loss:0.0856\n",
            "Train Accuracy : 97.21 %\n",
            "Test Accuracy : 96.52 %\n",
            "Epoch [3/8], Step[200/600], Loss:0.0648\n",
            "Train Accuracy : 97.35333333333334 %\n",
            "Test Accuracy : 96.36 %\n",
            "Epoch [3/8], Step[300/600], Loss:0.0980\n",
            "Train Accuracy : 97.88166666666666 %\n",
            "Test Accuracy : 97.02 %\n",
            "Epoch [3/8], Step[400/600], Loss:0.0597\n",
            "Train Accuracy : 97.56166666666667 %\n",
            "Test Accuracy : 96.69 %\n",
            "Epoch [3/8], Step[500/600], Loss:0.2727\n",
            "Train Accuracy : 97.76666666666667 %\n",
            "Test Accuracy : 96.95 %\n",
            "Epoch [3/8], Step[600/600], Loss:0.0395\n",
            "Train Accuracy : 98.01833333333333 %\n",
            "Test Accuracy : 97.16 %\n",
            "Epoch [4/8], Step[100/600], Loss:0.1019\n",
            "Train Accuracy : 98.15333333333334 %\n",
            "Test Accuracy : 97.19 %\n",
            "Epoch [4/8], Step[200/600], Loss:0.0594\n",
            "Train Accuracy : 97.75166666666667 %\n",
            "Test Accuracy : 96.96000000000001 %\n",
            "Epoch [4/8], Step[300/600], Loss:0.0566\n",
            "Train Accuracy : 98.35666666666667 %\n",
            "Test Accuracy : 97.44 %\n",
            "Epoch [4/8], Step[400/600], Loss:0.0614\n",
            "Train Accuracy : 98.36333333333333 %\n",
            "Test Accuracy : 97.13000000000001 %\n",
            "Epoch [4/8], Step[500/600], Loss:0.1262\n",
            "Train Accuracy : 98.67666666666666 %\n",
            "Test Accuracy : 97.61 %\n",
            "Epoch [4/8], Step[600/600], Loss:0.0355\n",
            "Train Accuracy : 98.63499999999999 %\n",
            "Test Accuracy : 97.35000000000001 %\n",
            "Epoch [5/8], Step[100/600], Loss:0.0805\n",
            "Train Accuracy : 98.76 %\n",
            "Test Accuracy : 97.52 %\n",
            "Epoch [5/8], Step[200/600], Loss:0.0465\n",
            "Train Accuracy : 98.35333333333334 %\n",
            "Test Accuracy : 97.15 %\n",
            "Epoch [5/8], Step[300/600], Loss:0.0599\n",
            "Train Accuracy : 98.55000000000001 %\n",
            "Test Accuracy : 97.34 %\n",
            "Epoch [5/8], Step[400/600], Loss:0.0483\n",
            "Train Accuracy : 98.26833333333333 %\n",
            "Test Accuracy : 97.08 %\n",
            "Epoch [5/8], Step[500/600], Loss:0.0699\n",
            "Train Accuracy : 98.82666666666667 %\n",
            "Test Accuracy : 97.58 %\n",
            "Epoch [5/8], Step[600/600], Loss:0.0332\n",
            "Train Accuracy : 98.68666666666667 %\n",
            "Test Accuracy : 97.6 %\n",
            "Epoch [6/8], Step[100/600], Loss:0.0224\n",
            "Train Accuracy : 99.05333333333334 %\n",
            "Test Accuracy : 97.57000000000001 %\n",
            "Epoch [6/8], Step[200/600], Loss:0.0331\n",
            "Train Accuracy : 99.13333333333333 %\n",
            "Test Accuracy : 97.96000000000001 %\n",
            "Epoch [6/8], Step[300/600], Loss:0.0103\n",
            "Train Accuracy : 98.77 %\n",
            "Test Accuracy : 97.38 %\n",
            "Epoch [6/8], Step[400/600], Loss:0.0141\n",
            "Train Accuracy : 98.85666666666667 %\n",
            "Test Accuracy : 97.34 %\n",
            "Epoch [6/8], Step[500/600], Loss:0.0469\n",
            "Train Accuracy : 98.825 %\n",
            "Test Accuracy : 97.55 %\n",
            "Epoch [6/8], Step[600/600], Loss:0.0234\n",
            "Train Accuracy : 98.79166666666667 %\n",
            "Test Accuracy : 97.22 %\n",
            "Epoch [7/8], Step[100/600], Loss:0.0102\n",
            "Train Accuracy : 99.22166666666666 %\n",
            "Test Accuracy : 97.8 %\n",
            "Epoch [7/8], Step[200/600], Loss:0.0266\n",
            "Train Accuracy : 99.27833333333334 %\n",
            "Test Accuracy : 97.75 %\n",
            "Epoch [7/8], Step[300/600], Loss:0.0299\n",
            "Train Accuracy : 99.35166666666667 %\n",
            "Test Accuracy : 97.87 %\n",
            "Epoch [7/8], Step[400/600], Loss:0.1040\n",
            "Train Accuracy : 99.105 %\n",
            "Test Accuracy : 97.75 %\n",
            "Epoch [7/8], Step[500/600], Loss:0.0632\n",
            "Train Accuracy : 98.63499999999999 %\n",
            "Test Accuracy : 97.44 %\n",
            "Epoch [7/8], Step[600/600], Loss:0.0933\n",
            "Train Accuracy : 99.14166666666667 %\n",
            "Test Accuracy : 97.71 %\n",
            "Epoch [8/8], Step[100/600], Loss:0.0366\n",
            "Train Accuracy : 99.10666666666667 %\n",
            "Test Accuracy : 97.72999999999999 %\n",
            "Epoch [8/8], Step[200/600], Loss:0.0044\n",
            "Train Accuracy : 99.03999999999999 %\n",
            "Test Accuracy : 97.50999999999999 %\n",
            "Epoch [8/8], Step[300/600], Loss:0.0742\n",
            "Train Accuracy : 99.01333333333334 %\n",
            "Test Accuracy : 97.68 %\n",
            "Epoch [8/8], Step[400/600], Loss:0.0396\n",
            "Train Accuracy : 99.03666666666666 %\n",
            "Test Accuracy : 97.69 %\n",
            "Epoch [8/8], Step[500/600], Loss:0.0328\n",
            "Train Accuracy : 99.41166666666666 %\n",
            "Test Accuracy : 97.69 %\n",
            "Epoch [8/8], Step[600/600], Loss:0.0354\n",
            "Train Accuracy : 99.00833333333333 %\n",
            "Test Accuracy : 97.39 %\n"
          ],
          "name": "stdout"
        }
      ]
    },
    {
      "cell_type": "code",
      "metadata": {
        "id": "nOxnjE295Bvm",
        "colab_type": "code",
        "colab": {
          "base_uri": "https://localhost:8080/",
          "height": 35
        },
        "outputId": "2cb50f46-e03f-4762-9a69-613c8586907a"
      },
      "source": [
        "print ('mean test accuracy without batchnorm:' ,np.mean(acc_list))"
      ],
      "execution_count": 18,
      "outputs": [
        {
          "output_type": "stream",
          "text": [
            "mean test accuracy without batchnorm: 0.9676645833333333\n"
          ],
          "name": "stdout"
        }
      ]
    },
    {
      "cell_type": "code",
      "metadata": {
        "id": "jHEFjuJiwBWz",
        "colab_type": "code",
        "colab": {}
      },
      "source": [
        ""
      ],
      "execution_count": null,
      "outputs": []
    }
  ]
}